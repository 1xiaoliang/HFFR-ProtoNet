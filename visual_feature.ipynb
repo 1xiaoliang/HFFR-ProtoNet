{
 "cells": [
  {
   "cell_type": "code",
   "execution_count": 1,
   "metadata": {},
   "outputs": [
    {
     "name": "stderr",
     "output_type": "stream",
     "text": [
      "/home/liangxiaoyuan/miniconda3/envs/ErrorLog/lib/python3.10/site-packages/torchvision/models/_utils.py:223: UserWarning: Arguments other than a weight enum or `None` for 'weights' are deprecated since 0.13 and may be removed in the future. The current behavior is equivalent to passing `weights=ResNet101_Weights.IMAGENET1K_V1`. You can also use `weights=ResNet101_Weights.DEFAULT` to get the most up-to-date weights.\n",
      "  warnings.warn(msg)\n",
      "/tmp/ipykernel_2539748/493343552.py:13: FutureWarning: You are using `torch.load` with `weights_only=False` (the current default value), which uses the default pickle module implicitly. It is possible to construct malicious pickle data which will execute arbitrary code during unpickling (See https://github.com/pytorch/pytorch/blob/main/SECURITY.md#untrusted-models for more details). In a future release, the default value for `weights_only` will be flipped to `True`. This limits the functions that could be executed during unpickling. Arbitrary objects will no longer be allowed to be loaded via this mode unless they are explicitly allowlisted by the user via `torch.serialization.add_safe_globals`. We recommend you start setting `weights_only=True` for any use case where you don't have full control of the loaded file. Please open an issue on GitHub for any issues related to this experimental feature.\n",
      "  model.load_state_dict(torch.load('/home/liangxiaoyuan/小样本学习/logs/pretrain_CUB/best_pretrain.pt'))\n"
     ]
    }
   ],
   "source": [
    "\n",
    "from pytorch_grad_cam import GradCAM\n",
    "from pytorch_grad_cam.utils.model_targets import ClassifierOutputTarget\n",
    "from pytorch_grad_cam.utils.image import show_cam_on_image\n",
    "from torchvision.models import resnet50\n",
    "from model import HFFR_ProtoNet\n",
    "import torch,cv2\n",
    "import numpy as np\n",
    "from PIL import Image\n",
    "import torchvision.transforms as transforms\n",
    "\n",
    "transform = transforms.Compose([transforms.Resize((256, 256)), transforms.ToTensor()])\n",
    "model = HFFR_ProtoNet(num_class=200)\n",
    "model.load_state_dict(torch.load('/home/liangxiaoyuan/小样本学习/logs/pretrain_CUB/best_pretrain.pt'))\n",
    "# model = resnet50()\n",
    "model.eval()\n",
    "\n",
    "model = model.cuda()\n"
   ]
  },
  {
   "cell_type": "code",
   "execution_count": 12,
   "metadata": {},
   "outputs": [
    {
     "name": "stdout",
     "output_type": "stream",
     "text": [
      "torch.Size([1, 2048, 8, 8])\n",
      "torch.Size([2048])\n",
      "torch.Size([2048])\n",
      "torch.Size([2048])\n",
      "torch.Size([2048])\n",
      "torch.Size([1, 2048, 8, 8])\n"
     ]
    },
    {
     "data": {
      "text/plain": [
       "True"
      ]
     },
     "execution_count": 12,
     "metadata": {},
     "output_type": "execute_result"
    }
   ],
   "source": [
    "\n",
    "def reshape_transform(out):\n",
    "    # out=out[0].reshape(1,-1)\n",
    "    # out=out[1]\n",
    "    print(out.shape)\n",
    "    # C,W,H=out.shape\n",
    "    # out=out.reshape(1,C,H,W)\n",
    "    # print(out.shape)\n",
    "    return out\n",
    "# 选择目标层\n",
    "target_layers = [model.feature_extractor.features.layer4]#[model.local_attention.attention_conv[-1]] [model.feature_extractor.features.layer4] \n",
    "# 假设model是你训练好的模型，target_layers是你想可视化的层\n",
    "cam = GradCAM(model=model, target_layers=target_layers,reshape_transform=reshape_transform)\n",
    "path='/home/liangxiaoyuan/小样本学习/CUB_200_2011/images/019.Gray_Catbird/Gray_Catbird_0002_21395.jpg'\n",
    "# 获取图像tensor并标准化处理\n",
    "rgb_img = Image.open(path).convert('RGB')\n",
    "input_tensor =transform(rgb_img)[None].cuda()\n",
    "# 类别索引，可以直接创建目标\n",
    "targets =[ClassifierOutputTarget(70)]\n",
    "# 计算cam\n",
    "grayscale_cam = cam(input_tensor=input_tensor, targets=targets)\n",
    "\n",
    "rgb_img = cv2.imread(path)\n",
    "rgb_img=cv2.resize(rgb_img,(256,256))/255.0\n",
    "visualization = show_cam_on_image(rgb_img, grayscale_cam[0], use_rgb=False)\n",
    "# cv2.imwrite('/home/liangxiaoyuan/小样本学习/注意力可视化/ex3/layer1.jpg',visualization)\n",
    "cv2.imwrite('/home/liangxiaoyuan/小样本学习/注意力可视化/local_attention.jpg',visualization)"
   ]
  },
  {
   "cell_type": "code",
   "execution_count": 9,
   "metadata": {},
   "outputs": [
    {
     "data": {
      "text/plain": [
       "FeatureSelect(\n",
       "  (pro_layer): Linear(in_features=16384, out_features=8192, bias=True)\n",
       "  (atten): TransformerEncoderLayer(\n",
       "    (self_attn): MultiheadAttention(\n",
       "      (out_proj): NonDynamicallyQuantizableLinear(in_features=8192, out_features=8192, bias=True)\n",
       "    )\n",
       "    (linear1): Linear(in_features=8192, out_features=2048, bias=True)\n",
       "    (dropout): Dropout(p=0.1, inplace=False)\n",
       "    (linear2): Linear(in_features=2048, out_features=8192, bias=True)\n",
       "    (norm1): LayerNorm((8192,), eps=1e-05, elementwise_affine=True)\n",
       "    (norm2): LayerNorm((8192,), eps=1e-05, elementwise_affine=True)\n",
       "    (dropout1): Dropout(p=0.1, inplace=False)\n",
       "    (dropout2): Dropout(p=0.1, inplace=False)\n",
       "  )\n",
       "  (downsampe): Sequential(\n",
       "    (0): Linear(in_features=8192, out_features=4096, bias=True)\n",
       "    (1): ReLU()\n",
       "    (2): Linear(in_features=4096, out_features=2048, bias=True)\n",
       "    (3): ReLU()\n",
       "  )\n",
       ")"
      ]
     },
     "execution_count": 9,
     "metadata": {},
     "output_type": "execute_result"
    }
   ],
   "source": [
    "model.AdaptiveChoose"
   ]
  },
  {
   "cell_type": "code",
   "execution_count": 24,
   "metadata": {},
   "outputs": [
    {
     "data": {
      "text/plain": [
       "True"
      ]
     },
     "execution_count": 24,
     "metadata": {},
     "output_type": "execute_result"
    }
   ],
   "source": [
    "path='/home/liangxiaoyuan/小样本学习/注意力可视化/ex3/image.jpg'\n",
    "img=cv2.resize(cv2.imread(path),(256,256))\n",
    "cv2.imwrite(path,img)"
   ]
  }
 ],
 "metadata": {
  "kernelspec": {
   "display_name": "ErrorLog",
   "language": "python",
   "name": "python3"
  },
  "language_info": {
   "codemirror_mode": {
    "name": "ipython",
    "version": 3
   },
   "file_extension": ".py",
   "mimetype": "text/x-python",
   "name": "python",
   "nbconvert_exporter": "python",
   "pygments_lexer": "ipython3",
   "version": "3.10.14"
  }
 },
 "nbformat": 4,
 "nbformat_minor": 2
}
