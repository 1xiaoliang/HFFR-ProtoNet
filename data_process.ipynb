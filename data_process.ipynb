{
 "cells": [
  {
   "cell_type": "code",
   "execution_count": 19,
   "metadata": {},
   "outputs": [],
   "source": [
    "# 处理CUB_200_2011数据集\n",
    "import cv2,os\n",
    "import pandas as pd\n",
    "name2id={}\n",
    "for line in open('/home/liangxiaoyuan/project/小样本学习/CUB_200_2011/classes.txt').readlines():\n",
    "    line=line.strip().split()\n",
    "    name2id[line[1]]=int(line[0])-1\n",
    "root='/home/liangxiaoyuan/project/小样本学习/CUB_200_2011/images'"
   ]
  },
  {
   "cell_type": "code",
   "execution_count": 20,
   "metadata": {},
   "outputs": [
    {
     "data": {
      "text/plain": [
       "11788"
      ]
     },
     "execution_count": 20,
     "metadata": {},
     "output_type": "execute_result"
    }
   ],
   "source": [
    "CUB_200_2011_df={'img_path':[],'label':[],'label_name':[]}\n",
    "for label_name in os.listdir(root):\n",
    "    for img_na in os.listdir(os.path.join(root,label_name)):\n",
    "        CUB_200_2011_df['img_path'].append(os.path.join(root,label_name,img_na))\n",
    "        CUB_200_2011_df['label'].append(name2id[label_name])\n",
    "        CUB_200_2011_df['label_name'].append(label_name)\n",
    "CUB_200_2011_df=pd.DataFrame(CUB_200_2011_df)\n",
    "CUB_200_2011_df=CUB_200_2011_df.sort_values(by='label')\n",
    "\n",
    "set_label=[]\n",
    "for label,value in CUB_200_2011_df.groupby(by='label'):\n",
    "    total_length=len(value)\n",
    "    train_num=int(0.8*total_length)\n",
    "    eval_num=int(0.1*total_length)\n",
    "    text_num=total_length-train_num-eval_num\n",
    "    set_label+=['train']*train_num+['eval']*eval_num+['test']*text_num\n",
    "CUB_200_2011_df['set']=set_label\n",
    "\n",
    "CUB_200_2011_df.to_csv('/home/liangxiaoyuan/project/小样本学习/CUB_200_2011.csv',index=False)\n",
    "len(CUB_200_2011_df)"
   ]
  },
  {
   "cell_type": "code",
   "execution_count": 1,
   "metadata": {},
   "outputs": [],
   "source": [
    "# 处理mini-imagenet\n",
    "import cv2,os\n",
    "import pandas as pd\n",
    "import pickle\n",
    "mini_imagenet_df={'img_path':[],'label':[],'label_name':[],'set':[]}\n",
    "file_path = '/home/liangxiaoyuan/project/小样本学习/mini-imagenet/mini-imagenet-cache-train.pkl'\n",
    "# 以二进制读取模式打开文件\n",
    "with open(file_path, 'rb') as f:\n",
    "    data = pickle.load(f)\n",
    "\n",
    "\n",
    "for label in data['class_dict']:\n",
    "    for idx in data['class_dict'][label]:\n",
    "        mini_imagenet_df['img_path'].append(f'/home/liangxiaoyuan/project/小样本学习/mini-imagenet/images/{label}_{idx}_train.jpg')\n",
    "        mini_imagenet_df['label_name'].append(label)\n",
    "        mini_imagenet_df['set'].append('train')\n",
    "        img=data['image_data'][idx]\n",
    "        img=cv2.cvtColor(img,cv2.COLOR_RGB2BGR)\n",
    "        cv2.imwrite(f'/home/liangxiaoyuan/project/小样本学习/mini-imagenet/images/{label}_{idx}_train.jpg',img)\n",
    "    # break"
   ]
  },
  {
   "cell_type": "code",
   "execution_count": 2,
   "metadata": {},
   "outputs": [
    {
     "data": {
      "text/plain": [
       "38400"
      ]
     },
     "execution_count": 2,
     "metadata": {},
     "output_type": "execute_result"
    }
   ],
   "source": [
    "len(mini_imagenet_df['img_path'])"
   ]
  },
  {
   "cell_type": "code",
   "execution_count": 3,
   "metadata": {},
   "outputs": [],
   "source": [
    "file_path = '/home/liangxiaoyuan/project/小样本学习/mini-imagenet/mini-imagenet-cache-val.pkl'\n",
    "# 以二进制读取模式打开文件\n",
    "with open(file_path, 'rb') as f:\n",
    "    data = pickle.load(f)\n",
    "for label in data['class_dict']:\n",
    "    for idx in data['class_dict'][label]:\n",
    "        mini_imagenet_df['img_path'].append(f'/home/liangxiaoyuan/project/小样本学习/mini-imagenet/images/{label}_{idx}_val.jpg')\n",
    "        mini_imagenet_df['label_name'].append(label)\n",
    "        mini_imagenet_df['set'].append('eval')\n",
    "        img=data['image_data'][idx]\n",
    "        img=cv2.cvtColor(img,cv2.COLOR_RGB2BGR)\n",
    "        cv2.imwrite(f'/home/liangxiaoyuan/project/小样本学习/mini-imagenet/images/{label}_{idx}_val.jpg',img)"
   ]
  },
  {
   "cell_type": "code",
   "execution_count": 4,
   "metadata": {},
   "outputs": [
    {
     "data": {
      "text/plain": [
       "48000"
      ]
     },
     "execution_count": 4,
     "metadata": {},
     "output_type": "execute_result"
    }
   ],
   "source": [
    "len(mini_imagenet_df['img_path'])"
   ]
  },
  {
   "cell_type": "code",
   "execution_count": 5,
   "metadata": {},
   "outputs": [],
   "source": [
    "file_path = '/home/liangxiaoyuan/project/小样本学习/mini-imagenet/mini-imagenet-cache-test.pkl'\n",
    "# 以二进制读取模式打开文件\n",
    "with open(file_path, 'rb') as f:\n",
    "    data = pickle.load(f)\n",
    "for label in data['class_dict']:\n",
    "    for idx in data['class_dict'][label]:\n",
    "        mini_imagenet_df['img_path'].append(f'/home/liangxiaoyuan/project/小样本学习/mini-imagenet/images/{label}_{idx}_test.jpg')\n",
    "        mini_imagenet_df['label_name'].append(label)\n",
    "        mini_imagenet_df['set'].append('test')\n",
    "        img=data['image_data'][idx]\n",
    "        img=cv2.cvtColor(img,cv2.COLOR_RGB2BGR)\n",
    "        cv2.imwrite(f'/home/liangxiaoyuan/project/小样本学习/mini-imagenet/images/{label}_{idx}_test.jpg',img)\n",
    "name2id={}\n",
    "label_list=list(set(mini_imagenet_df['label_name']))\n",
    "label_list.sort()\n",
    "for idx,label in enumerate(label_list):\n",
    "    name2id[label]=idx\n",
    "\n",
    "for label_name in mini_imagenet_df['label_name']:\n",
    "    mini_imagenet_df['label'].append(name2id[label_name])\n",
    "mini_imagenet_df=pd.DataFrame(mini_imagenet_df)\n",
    "mini_imagenet_df.to_csv('mini_imagenet.csv',index=False)"
   ]
  },
  {
   "cell_type": "code",
   "execution_count": 2,
   "metadata": {},
   "outputs": [],
   "source": [
    "# 处理tiny-imagenet-200\n",
    "import cv2,os\n",
    "import pandas as pd\n",
    "import pickle\n",
    "tiny_imagenet200_df={'img_path':[],'label':[],'label_name':[],'set':[]}\n",
    "name2id={}\n",
    "for idx,line in enumerate(open('/home/liangxiaoyuan/project/小样本学习/tiny-imagenet-200/wnids.txt').readlines()):\n",
    "    line=line.strip()\n",
    "    name2id[line]=idx\n",
    "val_ann={}\n",
    "for line in open('/home/liangxiaoyuan/project/小样本学习/tiny-imagenet-200/eval/val_annotations.txt').readlines():\n",
    "    line=line.split('\\t')\n",
    "    val_ann['/home/liangxiaoyuan/project/小样本学习/tiny-imagenet-200/eval/images/'+line[0]]=line[1]\n",
    "def find_jpeg_files(directory):\n",
    "    jpeg_files = []\n",
    "    for root, dirs, files in os.walk(directory):\n",
    "        for file in files:\n",
    "            if file.lower().endswith(('.jpeg', '.jpg')):\n",
    "                full_path = os.path.join(root, file)\n",
    "                jpeg_files.append(full_path)\n",
    "    return jpeg_files\n",
    "\n",
    "# 使用示例：\n",
    "directory_to_search = '/home/liangxiaoyuan/project/小样本学习/tiny-imagenet-200'\n",
    "jpeg_list = find_jpeg_files(directory_to_search)\n",
    "for jpeg in jpeg_list:\n",
    "    if 'test' in jpeg:\n",
    "        continue\n",
    "    tiny_imagenet200_df['img_path'].append(jpeg)\n",
    "    if 'train' in jpeg:\n",
    "        tiny_imagenet200_df['label'].append(name2id[jpeg.split('/')[-1].split('_')[0]])\n",
    "        tiny_imagenet200_df['label_name'].append(jpeg.split('/')[-1].split('_')[0])\n",
    "        tiny_imagenet200_df['set'].append(jpeg.split('/')[-4])\n",
    "    elif 'eval' in jpeg:\n",
    "        tiny_imagenet200_df['set'].append(jpeg.split('/')[-3])\n",
    "        tiny_imagenet200_df['label'].append(name2id[val_ann[jpeg]])\n",
    "        tiny_imagenet200_df['label_name'].append(val_ann[jpeg])\n",
    "tiny_imagenet200_df=pd.DataFrame(tiny_imagenet200_df)"
   ]
  },
  {
   "cell_type": "code",
   "execution_count": 4,
   "metadata": {},
   "outputs": [],
   "source": [
    "tiny_imagenet200_df.to_csv('data/tiny_imagenet200.csv',index=False)"
   ]
  }
 ],
 "metadata": {
  "kernelspec": {
   "display_name": "base",
   "language": "python",
   "name": "python3"
  },
  "language_info": {
   "codemirror_mode": {
    "name": "ipython",
    "version": 3
   },
   "file_extension": ".py",
   "mimetype": "text/x-python",
   "name": "python",
   "nbconvert_exporter": "python",
   "pygments_lexer": "ipython3",
   "version": "3.10.12"
  }
 },
 "nbformat": 4,
 "nbformat_minor": 2
}
